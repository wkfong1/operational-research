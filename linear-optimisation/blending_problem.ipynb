{
 "cells": [
  {
   "cell_type": "markdown",
   "metadata": {},
   "source": [
    "# Blending problem\n",
    "\n",
    "Problem summary: Find the cheapest combination of ingredients that meet nutritional requirements \n",
    "\n",
    "Problem details: [see here](https://pythonhosted.org/PuLP/CaseStudies/a_blending_problem.html)\n",
    "\n",
    "The purpose of this notebook is to try out Google's [OR-Tools](https://developers.google.com/optimization).\n",
    "\n",
    "The exercise below was taken from [here](https://pythonhosted.org/PuLP/CaseStudies/a_blending_problem.html)."
   ]
  },
  {
   "cell_type": "code",
   "execution_count": 1,
   "metadata": {
    "ExecuteTime": {
     "end_time": "2020-02-12T22:28:20.478836Z",
     "start_time": "2020-02-12T22:28:18.399282Z"
    },
    "collapsed": true
   },
   "outputs": [],
   "source": [
    "from ortools.linear_solver import pywraplp\n",
    "import pandas as pd\n",
    "from loguru import logger"
   ]
  },
  {
   "cell_type": "markdown",
   "metadata": {},
   "source": [
    "## 1. Define data"
   ]
  },
  {
   "cell_type": "code",
   "execution_count": 2,
   "metadata": {
    "ExecuteTime": {
     "end_time": "2020-02-12T22:28:20.492513Z",
     "start_time": "2020-02-12T22:28:20.480864Z"
    },
    "collapsed": true
   },
   "outputs": [],
   "source": [
    "def create_data_model():\n",
    "    config = {}\n",
    "    # unit: x per gram\n",
    "    config['food_data_col'] = ['cost', 'ingredient', 'protein', 'fat', 'fibre', 'salt']\n",
    "\n",
    "    config['food_data'] = [\n",
    "        ['chicken', 0.013, 0.100, 0.080, 0.001, 0.002],\n",
    "        ['beef', 0.008, 0.200, 0.100, 0.005, 0.005],\n",
    "        ['mutton', 0.010, 0.150, 0.110, 0.003, 0.007],\n",
    "        ['rice', 0.002, 0.000, 0.010, 0.100, 0.002],\n",
    "        ['wheat', 0.005, 0.040, 0.010, 0.150, 0.008],\n",
    "        ['gel', 0.001, 0.000, 0.000, 0.000, 0.000],\n",
    "    ]\n",
    "\n",
    "    # nutrition per gram\n",
    "    config['nutrition_req'] = [\n",
    "        ['protein', '>=', 0.08],\n",
    "        ['fat', '>=', 0.06],\n",
    "        ['fibre', '<=', 0.02],\n",
    "        ['salt', '<=', 0.004],\n",
    "    ]\n",
    "\n",
    "    # weight in gram\n",
    "    config['weight_per_can'] = 100\n",
    "    \n",
    "    return config"
   ]
  },
  {
   "cell_type": "code",
   "execution_count": 3,
   "metadata": {
    "ExecuteTime": {
     "end_time": "2020-02-12T22:28:20.503058Z",
     "start_time": "2020-02-12T22:28:20.495210Z"
    },
    "collapsed": true
   },
   "outputs": [],
   "source": [
    "config = create_data_model()"
   ]
  },
  {
   "cell_type": "markdown",
   "metadata": {},
   "source": [
    "## 2. Declare solver\n",
    "\n",
    "GLOP is Google's linear programming system."
   ]
  },
  {
   "cell_type": "code",
   "execution_count": 4,
   "metadata": {
    "ExecuteTime": {
     "end_time": "2020-02-12T22:28:20.518961Z",
     "start_time": "2020-02-12T22:28:20.505197Z"
    },
    "collapsed": true
   },
   "outputs": [],
   "source": [
    "# Instantiate a Glop solver, naming it SolveBlending.\n",
    "solver = pywraplp.Solver('SolveBlending',\n",
    "                       pywraplp.Solver.GLOP_LINEAR_PROGRAMMING)\n",
    "\n",
    "# number of milliseconds\n",
    "solver.SetTimeLimit(60*100)"
   ]
  },
  {
   "cell_type": "markdown",
   "metadata": {},
   "source": [
    "## 3. Declare decision variables"
   ]
  },
  {
   "cell_type": "code",
   "execution_count": 5,
   "metadata": {
    "ExecuteTime": {
     "end_time": "2020-02-12T22:28:20.554658Z",
     "start_time": "2020-02-12T22:28:20.523303Z"
    }
   },
   "outputs": [
    {
     "name": "stderr",
     "output_type": "stream",
     "text": [
      "2020-02-12 22:28:20.526 | DEBUG    | __main__:<module>:6 - amount[0] = Amount in grams of chicken in a can of cat food\n",
      "2020-02-12 22:28:20.529 | DEBUG    | __main__:<module>:6 - amount[1] = Amount in grams of beef in a can of cat food\n",
      "2020-02-12 22:28:20.534 | DEBUG    | __main__:<module>:6 - amount[2] = Amount in grams of mutton in a can of cat food\n",
      "2020-02-12 22:28:20.539 | DEBUG    | __main__:<module>:6 - amount[3] = Amount in grams of rice in a can of cat food\n",
      "2020-02-12 22:28:20.543 | DEBUG    | __main__:<module>:6 - amount[4] = Amount in grams of wheat in a can of cat food\n",
      "2020-02-12 22:28:20.549 | DEBUG    | __main__:<module>:6 - amount[5] = Amount in grams of gel in a can of cat food\n"
     ]
    }
   ],
   "source": [
    "amount = [[]] * len(config['food_data'])\n",
    "\n",
    "for i in range(0, len(config['food_data'])):\n",
    "    # Declare continuous variables (lb, ub, name)\n",
    "    amount[i] = solver.NumVar(0.0, solver.infinity(), config['food_data'][i][0])\n",
    "    logger.debug(f'amount[{i}] = Amount in grams of {amount[i]} in a can of cat food')"
   ]
  },
  {
   "cell_type": "markdown",
   "metadata": {},
   "source": [
    "## 3. Set objective: minimize the cost of a can of cat food\n",
    "\n",
    "Objective: $min (\\$0.013Amount_{chicken} + \\$0.008Amount_{beef} + \\$0.010Amount_{mutton} + \\$0.002Amount_{rice} + \\$0.005Amount_{wheat} + \\$0.001Amount_{gel}) $"
   ]
  },
  {
   "cell_type": "code",
   "execution_count": 9,
   "metadata": {
    "ExecuteTime": {
     "end_time": "2020-02-12T22:29:18.577743Z",
     "start_time": "2020-02-12T22:29:18.553487Z"
    }
   },
   "outputs": [
    {
     "name": "stderr",
     "output_type": "stream",
     "text": [
      "2020-02-12 22:29:18.557 | DEBUG    | __main__:<module>:6 - 0.013 * chicken\n",
      "2020-02-12 22:29:18.559 | DEBUG    | __main__:<module>:6 - 0.008 * beef\n",
      "2020-02-12 22:29:18.563 | DEBUG    | __main__:<module>:6 - 0.010 * mutton\n",
      "2020-02-12 22:29:18.566 | DEBUG    | __main__:<module>:6 - 0.002 * rice\n",
      "2020-02-12 22:29:18.567 | DEBUG    | __main__:<module>:6 - 0.005 * wheat\n",
      "2020-02-12 22:29:18.567 | DEBUG    | __main__:<module>:6 - 0.001 * gel\n"
     ]
    }
   ],
   "source": [
    "objective = solver.Objective()\n",
    "for i in range(0, len(config['food_data'])):\n",
    "    # Set coefficient of each variable in the objective\n",
    "    # There is no coefficient for any of the terms, so set to 1\n",
    "    objective.SetCoefficient(amount[i], config['food_data'][i][1])\n",
    "    logger.debug(f\"{config['food_data'][i][1]:.3f} * {amount[i]}\")\n",
    "\n",
    "# declares to be a minimization problem\n",
    "objective.SetMinimization()"
   ]
  },
  {
   "cell_type": "markdown",
   "metadata": {},
   "source": [
    "## 4. Create constraints\n",
    "\n",
    "1. The total amount in grams must sum to 1\n",
    "\n",
    "2. For each gram of food, \n",
    "  1. protein >= 0.08g\n",
    "  2. fat >= 0.06g\n",
    "  3. fibre <= 0.02g\n",
    "  4. salt <= 0.004g\n"
   ]
  },
  {
   "cell_type": "code",
   "execution_count": 10,
   "metadata": {
    "ExecuteTime": {
     "end_time": "2020-02-12T22:29:25.596544Z",
     "start_time": "2020-02-12T22:29:25.571756Z"
    }
   },
   "outputs": [
    {
     "name": "stderr",
     "output_type": "stream",
     "text": [
      "2020-02-12 22:29:25.582 | DEBUG    | __main__:print_constraint:3 - constraint 0: lb 1.0; ub 1.0;                    coefficients [(1.0, chicken), (1.0, beef), (1.0, mutton), (1.0, rice), (1.0, wheat), (1.0, gel)]\n",
      "2020-02-12 22:29:25.583 | DEBUG    | __main__:print_constraint:3 - constraint 1: lb 0.08; ub inf;                    coefficients [(0.1, chicken), (0.2, beef), (0.15, mutton), (0.0, rice), (0.04, wheat), (0.0, gel)]\n",
      "2020-02-12 22:29:25.585 | DEBUG    | __main__:print_constraint:3 - constraint 2: lb 0.06; ub inf;                    coefficients [(0.08, chicken), (0.1, beef), (0.11, mutton), (0.01, rice), (0.01, wheat), (0.0, gel)]\n",
      "2020-02-12 22:29:25.588 | DEBUG    | __main__:print_constraint:3 - constraint 3: lb 0.0; ub 0.02;                    coefficients [(0.001, chicken), (0.005, beef), (0.003, mutton), (0.1, rice), (0.15, wheat), (0.0, gel)]\n",
      "2020-02-12 22:29:25.589 | DEBUG    | __main__:print_constraint:3 - constraint 4: lb 0.0; ub 0.004;                    coefficients [(0.002, chicken), (0.005, beef), (0.007, mutton), (0.002, rice), (0.008, wheat), (0.0, gel)]\n"
     ]
    }
   ],
   "source": [
    "def print_constraint(idx, constraint):\n",
    "    logger.debug(f'constraint {idx}: lb {constraint.lb()}; ub {constraint.ub()}; \\\n",
    "                   coefficients {list(zip([constraint.GetCoefficient(a) for a in amount], amount))}')\n",
    "\n",
    "total_constraints = 1 + len(config['nutrition_req'])\n",
    "constraints = [0] * total_constraints\n",
    "constraint_pointer = 0\n",
    "\n",
    "# want to find out the combination of ingredients per gram\n",
    "# as everything is defined per gram\n",
    "constraints[0] = solver.Constraint(1, 1)\n",
    "for amt in amount:\n",
    "    constraints[0].SetCoefficient(amt, 1)\n",
    "print_constraint(constraint_pointer, constraints[constraint_pointer])\n",
    "constraint_pointer += 1\n",
    "\n",
    "\n",
    "# nutrition requirements\n",
    "for i, req in enumerate(config['nutrition_req']):\n",
    "    if req[1] == '>=':\n",
    "        constraints[constraint_pointer] = solver.Constraint(req[2], solver.infinity())\n",
    "    elif req[1] == '<=':\n",
    "        constraints[constraint_pointer] = solver.Constraint(0, req[2])\n",
    "        \n",
    "    for j, ingredient in enumerate(config['food_data']):\n",
    "        constraints[constraint_pointer].SetCoefficient(amount[j], ingredient[i+2])\n",
    "    \n",
    "    print_constraint(constraint_pointer, constraints[constraint_pointer])\n",
    "    constraint_pointer += 1"
   ]
  },
  {
   "cell_type": "markdown",
   "metadata": {},
   "source": [
    "## 5. Solve"
   ]
  },
  {
   "cell_type": "code",
   "execution_count": 11,
   "metadata": {
    "ExecuteTime": {
     "end_time": "2020-02-12T22:29:30.262446Z",
     "start_time": "2020-02-12T22:29:30.255824Z"
    },
    "collapsed": true
   },
   "outputs": [],
   "source": [
    "status = solver.Solve()"
   ]
  },
  {
   "cell_type": "markdown",
   "metadata": {},
   "source": [
    "## 6. Display solution"
   ]
  },
  {
   "cell_type": "code",
   "execution_count": 21,
   "metadata": {
    "ExecuteTime": {
     "end_time": "2020-02-12T22:31:29.662935Z",
     "start_time": "2020-02-12T22:31:29.635731Z"
    }
   },
   "outputs": [
    {
     "name": "stderr",
     "output_type": "stream",
     "text": [
      "2020-02-12 22:31:29.641 | INFO     | __main__:<module>:15 - chicken = 0.000000\n",
      "2020-02-12 22:31:29.643 | INFO     | __main__:<module>:15 - beef = 0.600000\n",
      "2020-02-12 22:31:29.646 | INFO     | __main__:<module>:15 - mutton = 0.000000\n",
      "2020-02-12 22:31:29.648 | INFO     | __main__:<module>:15 - rice = 0.000000\n",
      "2020-02-12 22:31:29.651 | INFO     | __main__:<module>:15 - wheat = 0.000000\n",
      "2020-02-12 22:31:29.653 | INFO     | __main__:<module>:15 - gel = 0.400000\n",
      "2020-02-12 22:31:29.654 | INFO     | __main__:<module>:17 - Total amount (g): 1.0\n",
      "2020-02-12 22:31:29.655 | INFO     | __main__:<module>:18 - Optimal cost per can of 100g ($): 0.52\n"
     ]
    }
   ],
   "source": [
    "if status == solver.OPTIMAL:\n",
    "    # Display the amounts (in dollars) to purchase of each food.\n",
    "    price_total = 0\n",
    "    amount_total = 0\n",
    "    num_nutrients = len(config['nutrition_req'])\n",
    "    nutrients = [0] * num_nutrients\n",
    "    \n",
    "    for i in range(0, len(amount)):\n",
    "        amount_total += amount[i].solution_value()\n",
    "        price_total += amount[i].solution_value() * config['food_data'][i][1]\n",
    "\n",
    "        for nutrient in range(0, num_nutrients):\n",
    "            nutrients[nutrient] += config['food_data'][i][nutrient+2] * amount[i].solution_value()\n",
    "\n",
    "        logger.info('%s = %f' % (config['food_data'][i][0], amount[i].solution_value()))\n",
    "\n",
    "    logger.info(f'Total amount (g): {amount_total}')\n",
    "    logger.info(f\"Optimal cost per can of {config['weight_per_can']}g ($): {price_total*config['weight_per_can']}\")\n",
    "\n",
    "else:  # No optimal solution was found.\n",
    "    if status == solver.FEASIBLE:\n",
    "        print('A potentially suboptimal solution was found.')\n",
    "    else:\n",
    "        print('The solver could not solve the problem.')"
   ]
  },
  {
   "cell_type": "code",
   "execution_count": null,
   "metadata": {
    "collapsed": true
   },
   "outputs": [],
   "source": []
  }
 ],
 "metadata": {
  "kernelspec": {
   "display_name": "Python 3",
   "language": "python",
   "name": "python3"
  },
  "language_info": {
   "codemirror_mode": {
    "name": "ipython",
    "version": 3
   },
   "file_extension": ".py",
   "mimetype": "text/x-python",
   "name": "python",
   "nbconvert_exporter": "python",
   "pygments_lexer": "ipython3",
   "version": "3.6.8"
  },
  "varInspector": {
   "cols": {
    "lenName": 16,
    "lenType": 16,
    "lenVar": 40
   },
   "kernels_config": {
    "python": {
     "delete_cmd_postfix": "",
     "delete_cmd_prefix": "del ",
     "library": "var_list.py",
     "varRefreshCmd": "print(var_dic_list())"
    },
    "r": {
     "delete_cmd_postfix": ") ",
     "delete_cmd_prefix": "rm(",
     "library": "var_list.r",
     "varRefreshCmd": "cat(var_dic_list()) "
    }
   },
   "types_to_exclude": [
    "module",
    "function",
    "builtin_function_or_method",
    "instance",
    "_Feature"
   ],
   "window_display": false
  }
 },
 "nbformat": 4,
 "nbformat_minor": 2
}
